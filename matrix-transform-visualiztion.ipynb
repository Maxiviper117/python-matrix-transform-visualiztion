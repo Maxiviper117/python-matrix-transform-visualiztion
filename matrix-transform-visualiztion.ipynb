{
 "cells": [
  {
   "cell_type": "code",
   "execution_count": 1,
   "metadata": {},
   "outputs": [
    {
     "data": {
      "application/vnd.jupyter.widget-view+json": {
       "model_id": "5a6d21f45fa849c7afa19ba712a51693",
       "version_major": 2,
       "version_minor": 0
      },
      "text/plain": [
       "HBox(children=(VBox(children=(FloatSlider(value=0.0, description='Rotate X (deg)', max=180.0, min=-180.0, step…"
      ]
     },
     "metadata": {},
     "output_type": "display_data"
    },
    {
     "data": {
      "application/vnd.jupyter.widget-view+json": {
       "model_id": "7303e9e6cdc5426294798f1d58b87b0b",
       "version_major": 2,
       "version_minor": 0
      },
      "text/plain": [
       "Output()"
      ]
     },
     "metadata": {},
     "output_type": "display_data"
    }
   ],
   "source": [
    "import numpy as np\n",
    "import matplotlib.pyplot as plt\n",
    "from mpl_toolkits.mplot3d import Axes3D\n",
    "from ipywidgets import interact, FloatSlider, fixed\n",
    "import ipywidgets as widgets\n",
    "\n",
    "def draw_sphere(ax, center, radius=50):\n",
    "    u = np.linspace(0, 2 * np.pi, 100)\n",
    "    v = np.linspace(0, np.pi, 100)\n",
    "    x = center[0] + radius * np.outer(np.cos(u), np.sin(v))\n",
    "    y = center[1] + radius * np.outer(np.sin(u), np.sin(v))\n",
    "    z = center[2] + radius * np.outer(np.ones(np.size(u)), np.cos(v))\n",
    "    ax.plot_surface(x, y, z, color='b', alpha=0.3)\n",
    "\n",
    "def draw_axes(ax, center, matrix, length=50):\n",
    "    axes = np.array([\n",
    "        [length, 0, 0, 1],\n",
    "        [0, length, 0, 1],\n",
    "        [0, 0, length, 1]\n",
    "    ])\n",
    "    transformed_axes = np.dot(matrix, axes.T).T\n",
    "    for i, color in enumerate(['r', 'g', 'b']):\n",
    "        ax.quiver(center[0], center[1], center[2],\n",
    "                  transformed_axes[i, 0]-center[0], transformed_axes[i, 1]-center[1], transformed_axes[i, 2]-center[2],\n",
    "                  color=color, arrow_length_ratio=0.1)\n",
    "\n",
    "def update_matrix(rotation_x, rotation_y, rotation_z, translation_x, translation_y, translation_z):\n",
    "    Rx = np.array([\n",
    "        [1, 0, 0, 0],\n",
    "        [0, np.cos(np.radians(rotation_x)), -np.sin(np.radians(rotation_x)), 0],\n",
    "        [0, np.sin(np.radians(rotation_x)), np.cos(np.radians(rotation_x)), 0],\n",
    "        [0, 0, 0, 1]\n",
    "    ])\n",
    "    Ry = np.array([\n",
    "        [np.cos(np.radians(rotation_y)), 0, np.sin(np.radians(rotation_y)), 0],\n",
    "        [0, 1, 0, 0],\n",
    "        [-np.sin(np.radians(rotation_y)), 0, np.cos(np.radians(rotation_y)), 0],\n",
    "        [0, 0, 0, 1]\n",
    "    ])\n",
    "    Rz = np.array([\n",
    "        [np.cos(np.radians(rotation_z)), -np.sin(np.radians(rotation_z)), 0, 0],\n",
    "        [np.sin(np.radians(rotation_z)), np.cos(np.radians(rotation_z)), 0, 0],\n",
    "        [0, 0, 1, 0],\n",
    "        [0, 0, 0, 1]\n",
    "    ])\n",
    "    T = np.array([\n",
    "        [1, 0, 0, translation_x],\n",
    "        [0, 1, 0, translation_y],\n",
    "        [0, 0, 1, translation_z],\n",
    "        [0, 0, 0, 1]\n",
    "    ])\n",
    "    return np.dot(T, np.dot(Rz, np.dot(Ry, Rx)))\n",
    "\n",
    "def plot_3d(matrix):\n",
    "    fig = plt.figure(figsize=(8, 6))\n",
    "    ax = fig.add_subplot(111, projection='3d')\n",
    "    plt.close(fig)\n",
    "    \n",
    "    original_center = np.array([0, 0, 0, 1])\n",
    "    transformed_center = np.dot(matrix, original_center)\n",
    "\n",
    "    draw_sphere(ax, original_center[:3])\n",
    "    draw_axes(ax, original_center[:3], np.eye(4))\n",
    "    draw_sphere(ax, transformed_center[:3])\n",
    "    draw_axes(ax, transformed_center[:3], matrix)\n",
    "\n",
    "    # Set the plot limits\n",
    "    ax.set_xlim([-200, 200])\n",
    "    ax.set_ylim([-200, 200])\n",
    "    ax.set_zlim([-200, 200])\n",
    "    ax.set_xlabel('X')\n",
    "    ax.set_ylabel('Y')\n",
    "    ax.set_zlabel('Z')\n",
    "\n",
    "    return fig\n",
    "\n",
    "def interactive_transformations(rotation_x=0, rotation_y=0, rotation_z=0, translation_x=0, translation_y=0, translation_z=0):\n",
    "    matrix = update_matrix(rotation_x, rotation_y, rotation_z, translation_x, translation_y, translation_z)\n",
    "    display(plot_3d(matrix))\n",
    "    print(\"Transformation Matrix:\")\n",
    "    print(matrix)\n",
    "\n",
    "sliders = {\n",
    "    'rotation_x': FloatSlider(min=-180, max=180, step=1, value=0, description='Rotate X (deg)'),\n",
    "    'rotation_y': FloatSlider(min=-180, max=180, step=1, value=0, description='Rotate Y (deg)'),\n",
    "    'rotation_z': FloatSlider(min=-180, max=180, step=1, value=0, description='Rotate Z (deg)'),\n",
    "    'translation_x': FloatSlider(min=-100, max=100, step=1, value=0, description='Translate X'),\n",
    "    'translation_y': FloatSlider(min=-100, max=100, step=1, value=0, description='Translate Y'),\n",
    "    'translation_z': FloatSlider(min=-100, max=100, step=1, value=0, description='Translate Z')\n",
    "}\n",
    "\n",
    "ui = widgets.HBox([\n",
    "    widgets.VBox([sliders['rotation_x'], sliders['rotation_y'], sliders['rotation_z']]),\n",
    "    widgets.VBox([sliders['translation_x'], sliders['translation_y'], sliders['translation_z']])\n",
    "])\n",
    "\n",
    "out = widgets.interactive_output(interactive_transformations, sliders)\n",
    "\n",
    "display(ui, out)\n"
   ]
  },
  {
   "cell_type": "code",
   "execution_count": null,
   "metadata": {},
   "outputs": [],
   "source": []
  }
 ],
 "metadata": {
  "kernelspec": {
   "display_name": "Python 3 (ipykernel)",
   "language": "python",
   "name": "python3"
  },
  "language_info": {
   "codemirror_mode": {
    "name": "ipython",
    "version": 3
   },
   "file_extension": ".py",
   "mimetype": "text/x-python",
   "name": "python",
   "nbconvert_exporter": "python",
   "pygments_lexer": "ipython3",
   "version": "3.12.0"
  }
 },
 "nbformat": 4,
 "nbformat_minor": 4
}
